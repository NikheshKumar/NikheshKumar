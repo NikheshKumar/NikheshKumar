{
  "nbformat": 4,
  "nbformat_minor": 0,
  "metadata": {
    "colab": {
      "provenance": [],
      "authorship_tag": "ABX9TyMvkFVLOoNQ3CetvlCsYU4l",
      "include_colab_link": true
    },
    "kernelspec": {
      "name": "python3",
      "display_name": "Python 3"
    },
    "language_info": {
      "name": "python"
    }
  },
  "cells": [
    {
      "cell_type": "markdown",
      "metadata": {
        "id": "view-in-github",
        "colab_type": "text"
      },
      "source": [
        "<a href=\"https://colab.research.google.com/github/NikheshKumar/NikheshKumar/blob/main/Game_of_life.ipynb\" target=\"_parent\"><img src=\"https://colab.research.google.com/assets/colab-badge.svg\" alt=\"Open In Colab\"/></a>"
      ]
    },
    {
      "cell_type": "markdown",
      "source": [
        "\n",
        "[A Beautiful game called Game of Life by the brilliant mathematician John H Conway](https://https://en.wikipedia.org/wiki/Conway%27s_Game_of_Life)\n",
        "\n",
        "Given a m x n grid of cells, where each cell has an initial state: 1 denotes live cells and 0 denotes dead cells. \n",
        "There are 8 neighbours for each cell (horizontal, vertical, diagonal) and the system follows the below rules:\n",
        "\n",
        "Any live cell with fewer than two live neighbors dies as if caused by under-population.\n",
        "Any live cell with two or three live neighbors lives on to the next generation.\n",
        "Any live cell with more than three live neighbors dies, as if by over-population.\n",
        "Any dead cell with exactly three live neighbors becomes a live cell, as if by reproduction.\n",
        "\n",
        "The next state is created by applying the above rules simultaneously to every cell in the current state, where births and deaths occur simultaneously. \n",
        "\n",
        "Given a m x n grid board, we provide a code to return the kth state."
      ],
      "metadata": {
        "id": "9XQoB27yDDGC"
      }
    },
    {
      "cell_type": "code",
      "execution_count": null,
      "metadata": {
        "id": "fof6QlvxC803"
      },
      "outputs": [],
      "source": []
    }
  ]
}